{
  "metadata": {
    "kernelspec": {
      "language": "python",
      "display_name": "Python 3",
      "name": "python3"
    },
    "language_info": {
      "name": "python",
      "version": "3.10.14",
      "mimetype": "text/x-python",
      "codemirror_mode": {
        "name": "ipython",
        "version": 3
      },
      "pygments_lexer": "ipython3",
      "nbconvert_exporter": "python",
      "file_extension": ".py"
    },
    "kaggle": {
      "accelerator": "gpu",
      "dataSources": [],
      "dockerImageVersionId": 30762,
      "isInternetEnabled": true,
      "language": "python",
      "sourceType": "notebook",
      "isGpuEnabled": true
    },
    "colab": {
      "provenance": []
    }
  },
  "nbformat_minor": 0,
  "nbformat": 4,
  "cells": [
    {
      "cell_type": "markdown",
      "source": [
        "# TGNNs for traffic forecasting:"
      ],
      "metadata": {
        "id": "5bPAfzEkPK-X"
      }
    },
    {
      "cell_type": "markdown",
      "source": [
        "## 1- Instalations:\n"
      ],
      "metadata": {
        "id": "47fBqWzdPW7v"
      }
    },
    {
      "cell_type": "code",
      "source": [
        "import torch\n",
        "from IPython.display import Image\n",
        "print('Setup complete. Using torch %s %s' % (torch.__version__, torch.cuda.get_device_properties(0) if torch.cuda.is_available() else 'CPU'))\n",
        "pt_version = torch.__version__\n",
        "print(pt_version)"
      ],
      "metadata": {
        "_uuid": "8f2839f25d086af736a60e9eeb907d3b93b6e0e5",
        "_cell_guid": "b1076dfc-b9ad-4769-8c92-a6c4dae69d19",
        "execution": {
          "iopub.status.busy": "2024-09-12T12:55:16.923863Z",
          "iopub.execute_input": "2024-09-12T12:55:16.924154Z",
          "iopub.status.idle": "2024-09-12T12:55:20.528045Z",
          "shell.execute_reply.started": "2024-09-12T12:55:16.924121Z",
          "shell.execute_reply": "2024-09-12T12:55:20.527219Z"
        },
        "id": "3n6aYlMyOn4p"
      },
      "execution_count": null,
      "outputs": []
    },
    {
      "cell_type": "code",
      "source": [
        "print(torch.__version__)\n",
        "print(torch.version.cuda)"
      ],
      "metadata": {
        "execution": {
          "iopub.status.busy": "2024-09-12T12:55:20.529456Z",
          "iopub.execute_input": "2024-09-12T12:55:20.53261Z",
          "iopub.status.idle": "2024-09-12T12:55:20.542342Z",
          "shell.execute_reply.started": "2024-09-12T12:55:20.532558Z",
          "shell.execute_reply": "2024-09-12T12:55:20.54156Z"
        },
        "trusted": true,
        "id": "wWluQrgyOn42",
        "outputId": "ee4643fc-e479-4647-f021-70b1d1f25a33"
      },
      "execution_count": null,
      "outputs": [
        {
          "name": "stdout",
          "text": "2.4.0\n12.3\n",
          "output_type": "stream"
        }
      ]
    },
    {
      "cell_type": "markdown",
      "source": [
        "This cell installs all the necessary libraries for the project, including:\n",
        "\n",
        "\n",
        "\n",
        "*   torch-scatter, torch-sparse, torch-cluster, torch-spline-conv: Required PyTorch extensions for efficient operations on sparse data structures, essential for graph neural networks.\n",
        "*   torch-geometric: A library for deep learning on irregularly structured data like graphs.\n",
        "*   torch-geometric-temporal: An extension of torch-geometric specifically designed for spatiotemporal data and temporal graph neural networks (TGNNs).\n",
        "\n",
        "(these took a long time to install)\n",
        "\n"
      ],
      "metadata": {
        "id": "IPK66iBbPfX8"
      }
    },
    {
      "cell_type": "code",
      "source": [
        "!pip install torch-scatter -f https://pytorch-geometric.com/whl/torch-${pt_version}.html\n",
        "!pip install torch-sparse -f https://pytorch-geometric.com/whl/torch-${pt_version}.html\n",
        "!pip install torch-cluster -f https://pytorch-geometric.com/whl/torch-${pt_version}.html\n",
        "!pip install torch-spline-conv -f https://pytorch-geometric.com/whl/torch-${pt_version}.html\n",
        "!pip install torch-geometric\n",
        "!pip install torch-geometric-temporal"
      ],
      "metadata": {
        "execution": {
          "iopub.status.busy": "2024-09-12T12:55:23.308443Z",
          "iopub.execute_input": "2024-09-12T12:55:23.309388Z",
          "iopub.status.idle": "2024-09-12T13:46:54.367218Z",
          "shell.execute_reply.started": "2024-09-12T12:55:23.309347Z",
          "shell.execute_reply": "2024-09-12T13:46:54.366214Z"
        },
        "trusted": true,
        "id": "s7qC6-gtOn45"
      },
      "execution_count": null,
      "outputs": []
    },
    {
      "cell_type": "markdown",
      "source": [
        "## 2- Dataset importation"
      ],
      "metadata": {
        "id": "axu9chE7WPUJ"
      }
    },
    {
      "cell_type": "markdown",
      "source": [
        "this is used to fix an error, it replaces occurrences of the import statement from torch_geometric.utils.to_dense_adj import to_dense_adj with from torch_geometric.utils import to_dense_adj in the specified Python file. This is done to update or correct import statements due to changes in the library's module structure."
      ],
      "metadata": {
        "id": "8uhtJ1KEPkeM"
      }
    },
    {
      "cell_type": "code",
      "source": [
        "!sed -i 's/from torch_geometric.utils.to_dense_adj import to_dense_adj/from torch_geometric.utils import to_dense_adj/g' /opt/conda/lib/python3.10/site-packages/torch_geometric_temporal/nn/attention/tsagcn.py\n"
      ],
      "metadata": {
        "execution": {
          "iopub.status.busy": "2024-09-12T13:47:50.813998Z",
          "iopub.execute_input": "2024-09-12T13:47:50.814437Z",
          "iopub.status.idle": "2024-09-12T13:47:51.877004Z",
          "shell.execute_reply.started": "2024-09-12T13:47:50.814392Z",
          "shell.execute_reply": "2024-09-12T13:47:51.875952Z"
        },
        "trusted": true,
        "id": "FPzVFvmAOn46"
      },
      "execution_count": null,
      "outputs": []
    },
    {
      "cell_type": "markdown",
      "source": [
        "- Traffic forecasting dataset based on Los Angeles Metropolitan traffic\n",
        "- 207 loop detectors on highways\n",
        "- March 2012 - June 2012\n",
        "- From the paper: Diffusion Convolutional Recurrent Neural Network\n",
        "\n",
        "loading and preparing the METR-LA dataset for the model:\n",
        "\n",
        "- SSL Certificate Verification Disabled: The first few lines disable SSL certificate verification to handle any SSL errors that might occur during dataset downloading.\n",
        "\n",
        "- Load Dataset: Utilizes the METRLADatasetLoader from torch_geometric_temporal to load the METR-LA dataset, specifying a window of 12 timesteps for both inputs and outputs."
      ],
      "metadata": {
        "id": "ukMYqWk4WSnK"
      }
    },
    {
      "cell_type": "code",
      "source": [
        "import ssl\n",
        "import urllib\n",
        "\n",
        "# Disable SSL certificate verification\n",
        "ssl._create_default_https_context = ssl._create_unverified_context\n",
        "\n",
        "import numpy as np\n",
        "from torch_geometric_temporal.dataset import METRLADatasetLoader\n",
        "from torch_geometric_temporal.signal import StaticGraphTemporalSignal\n",
        "\n",
        "loader = METRLADatasetLoader()\n",
        "dataset = loader.get_dataset(num_timesteps_in=12, num_timesteps_out=12)\n",
        "\n",
        "print(\"Dataset type:  \", dataset)\n",
        "print(\"Number of samples / sequences (time steps): \", len(dataset.features))\n",
        "print(\"Shape of each sample (node features): \", dataset.features[0].shape)"
      ],
      "metadata": {
        "execution": {
          "iopub.status.busy": "2024-09-12T13:47:54.335018Z",
          "iopub.execute_input": "2024-09-12T13:47:54.335441Z",
          "iopub.status.idle": "2024-09-12T13:48:00.708563Z",
          "shell.execute_reply.started": "2024-09-12T13:47:54.3354Z",
          "shell.execute_reply": "2024-09-12T13:48:00.707572Z"
        },
        "trusted": true,
        "id": "FCW3BZMEOn47",
        "outputId": "b89dd1d2-8ab4-4704-d332-e80d90d14fdd"
      },
      "execution_count": null,
      "outputs": [
        {
          "name": "stdout",
          "text": "Dataset type:   <torch_geometric_temporal.signal.static_graph_temporal_signal.StaticGraphTemporalSignal object at 0x79bc3cb42b00>\nNumber of samples / sequences (time steps):  34249\nShape of each sample (node features):  (207, 2, 12)\n",
          "output_type": "stream"
        }
      ]
    },
    {
      "cell_type": "markdown",
      "source": [
        "Data Sample\n",
        "- 207 nodes\n",
        "- 2 features per node (speed, time)\n",
        "- 12 timesteps per bucket (12 x 5 min = 60 min)\n",
        "- Labels for 12 future timesteps (normalized speed) --> node regression\n",
        "- Edge_attr is build based on the distances between sensors + threshold"
      ],
      "metadata": {
        "id": "nSIdyL7IWXPA"
      }
    },
    {
      "cell_type": "code",
      "source": [
        "# Show first sample\n",
        "next(iter(dataset))"
      ],
      "metadata": {
        "execution": {
          "iopub.status.busy": "2024-09-12T13:48:03.428139Z",
          "iopub.execute_input": "2024-09-12T13:48:03.42866Z",
          "iopub.status.idle": "2024-09-12T13:48:03.436677Z",
          "shell.execute_reply.started": "2024-09-12T13:48:03.428623Z",
          "shell.execute_reply": "2024-09-12T13:48:03.435699Z"
        },
        "trusted": true,
        "id": "WUBv4BTgOn4-",
        "outputId": "576ba3e9-85e1-413e-e70a-9547fd13bdd0"
      },
      "execution_count": null,
      "outputs": [
        {
          "execution_count": 6,
          "output_type": "execute_result",
          "data": {
            "text/plain": "Data(x=[207, 2, 12], edge_index=[2, 1722], edge_attr=[1722], y=[207, 12])"
          },
          "metadata": {}
        }
      ]
    },
    {
      "cell_type": "markdown",
      "source": [
        "The plot represents the normalized speed of traffic over a 24-hour period for Sensor 1. The x-axis indicates time in hours, while the y-axis shows the normalized speed values.\n",
        "\n",
        "- **Fluctuation**: The traffic speed varies considerably throughout the day, with multiple peaks and troughs.\n",
        "- **Range**: The normalized speed ranges approximately from 0.38 to 0.70, indicating significant changes in traffic conditions.\n",
        "- **Peak speeds**: The highest speeds occur around hours 13-14, with another notable peak near hour 22.\n",
        "- **Low points**: The lowest speeds are observed around hours 7-10, possibly corresponding to morning rush hour.\n",
        "- **Patterns**: There seem to be cyclical patterns, potentially reflecting daily traffic rhythms (e.g., rush hours, off-peak times).\n",
        "- **Variability**: The speed changes are quite abrupt in some cases, suggesting rapid shifts in traffic conditions."
      ],
      "metadata": {
        "id": "O7afeUpaWYcJ"
      }
    },
    {
      "cell_type": "code",
      "source": [
        "import seaborn as sns\n",
        "import matplotlib.pyplot as plt\n",
        "\n",
        "# Visualize traffic over time for a specific sensor\n",
        "sensor_number = 1\n",
        "hours = 24\n",
        "\n",
        "sensor_labels = [bucket.y[sensor_number][0].item() for bucket in list(dataset)[:hours]]\n",
        "sns.lineplot(data=sensor_labels)\n",
        "\n",
        "plt.xlabel('Time (hours)')\n",
        "plt.ylabel('Normalized Speed')\n",
        "plt.title(f'Traffic Over Time for Sensor {sensor_number}')\n",
        "plt.show()"
      ],
      "metadata": {
        "execution": {
          "iopub.status.busy": "2024-09-12T13:48:06.153845Z",
          "iopub.execute_input": "2024-09-12T13:48:06.154225Z",
          "iopub.status.idle": "2024-09-12T13:48:10.279946Z",
          "shell.execute_reply.started": "2024-09-12T13:48:06.154189Z",
          "shell.execute_reply": "2024-09-12T13:48:10.278973Z"
        },
        "trusted": true,
        "id": "C8_wtTbuOn5A",
        "outputId": "04e09b23-8bfd-401b-9d03-ef3a586be4c1"
      },
      "execution_count": null,
      "outputs": [
        {
          "output_type": "display_data",
          "data": {
            "text/plain": "<Figure size 640x480 with 1 Axes>",
            "image/png": "[encoded data removed]"
          },
          "metadata": {}
        }
      ]
    },
    {
      "cell_type": "markdown",
      "source": [
        "This heatmap provides a comprehensive view of normalized speeds across multiple sensors over a 24-hour period. Here's an analysis of the key observations:\n",
        "\n",
        "- Temporal Patterns:\n",
        "\n",
        "Most sensors show clear daily patterns with varying speeds throughout the day.\n",
        "There seems to be a general trend of higher speeds (yellower areas) during early morning hours (around 0-5) and late evening (around 20-23).\n",
        "Lower speeds (greener and bluer areas) are more common during midday and afternoon hours.\n",
        "\n",
        "\n",
        "- Sensor Variability:\n",
        "\n",
        "Different sensors exhibit distinct patterns, indicating varied traffic conditions across locations.\n",
        "Some sensors (e.g., 8, 16, 18, 19) show consistently lower speeds compared to others.\n",
        "Sensors 0-7 and 12-15 appear to have more dynamic speed changes throughout the day.\n",
        "\n",
        "\n",
        "- Anomalies:\n",
        "\n",
        "Sensor 11 shows an unusual pattern with extremely low speeds (dark purple) for several consecutive hours, which could indicate a traffic incident or data anomaly.\n",
        "Sensor 16 consistently shows very low speeds, which might suggest a persistently congested area or a sensor placed in a slow-traffic zone.\n",
        "\n",
        "\n",
        "- Rush Hour Indications:\n",
        "\n",
        "Many sensors show lower speeds (greener colors) around hours 7-9 and 16-18, potentially corresponding to morning and evening rush hours.\n",
        "\n",
        "\n",
        "- Night-time Patterns:\n",
        "\n",
        "Generally higher speeds (more yellow) are observed during night hours, likely due to lower traffic volumes."
      ],
      "metadata": {
        "id": "HliiZvsyWcTh"
      }
    },
    {
      "cell_type": "code",
      "source": [
        "import matplotlib.pyplot as plt\n",
        "import seaborn as sns\n",
        "import numpy as np\n",
        "\n",
        "# Choose a time range for visualization (e.g., first 24 hours)\n",
        "time_range = 24\n",
        "sensor_speeds = []\n",
        "\n",
        "# Extract speed data for each sensor over the specified time range\n",
        "for sensor_number in range(20):\n",
        "    speeds = [bucket.y[sensor_number][0].item() for bucket in list(dataset)[:time_range]]\n",
        "    sensor_speeds.append(speeds)\n",
        "\n",
        "# Convert to a NumPy array for easier plotting\n",
        "sensor_speeds = np.array(sensor_speeds)\n",
        "\n",
        "# Create a heatmap\n",
        "plt.figure(figsize=(12, 8))\n",
        "sns.heatmap(sensor_speeds, cmap='viridis', xticklabels=range(time_range), yticklabels=range(20))\n",
        "plt.xlabel('Time (hours)')\n",
        "plt.ylabel('Sensor Number')\n",
        "plt.title('Heatmap of Normalized Speeds Across Sensors Over Time')\n",
        "plt.show()"
      ],
      "metadata": {
        "execution": {
          "iopub.status.busy": "2024-09-12T13:48:10.282093Z",
          "iopub.execute_input": "2024-09-12T13:48:10.282767Z",
          "iopub.status.idle": "2024-09-12T13:49:04.383576Z",
          "shell.execute_reply.started": "2024-09-12T13:48:10.2827Z",
          "shell.execute_reply": "2024-09-12T13:49:04.382554Z"
        },
        "trusted": true,
        "id": "dQdey1P9On5B",
        "outputId": "1e4567b5-ad9a-4b88-dd96-c248f56fcbd4"
      },
      "execution_count": null,
      "outputs": [
        {
          "output_type": "display_data",
          "data": {
            "text/plain": "<Figure size 1200x800 with 2 Axes>",
            "image/png": "[encoded data removed]"
          },
          "metadata": {}
        }
      ]
    },
    {
      "cell_type": "markdown",
      "source": [
        "## 3- Implementation:"
      ],
      "metadata": {
        "id": "klWPWlQOWnMI"
      }
    },
    {
      "cell_type": "markdown",
      "source": [
        "Using GPU if available.  \n",
        "Unfortunately, google colab GPU have a limited time usage soo it kept disconnecting before even reaching the training stage so i just stick with CPU even though it will make the training take way longer time.  \n",
        "I also tried using my local machine with jupyter but since my pc doesn't have a strong GPU, once I started the training my pc crunched, fortunately it just auto restarted and nothing big happened.  \n",
        "\n",
        "for this model I used kaggle since it offers powerful GPU and lots of RAM, thats why some output results may seems off."
      ],
      "metadata": {
        "id": "stQsBissWoZW"
      }
    },
    {
      "cell_type": "code",
      "source": [
        "# Check for GPU availability\n",
        "if torch.cuda.is_available():\n",
        "    DEVICE = torch.device('cuda')\n",
        "    print(\"GPU is enabled and available.\")\n",
        "else:\n",
        "    DEVICE = torch.device('cpu')\n",
        "    print(\"GPU is not available. Using CPU instead.\")\n"
      ],
      "metadata": {
        "execution": {
          "iopub.status.busy": "2024-09-12T13:49:16.250259Z",
          "iopub.execute_input": "2024-09-12T13:49:16.250659Z",
          "iopub.status.idle": "2024-09-12T13:49:16.25685Z",
          "shell.execute_reply.started": "2024-09-12T13:49:16.25062Z",
          "shell.execute_reply": "2024-09-12T13:49:16.25595Z"
        },
        "trusted": true,
        "id": "Yx6-Co78On5E",
        "outputId": "26a3a9d5-f9f2-42d6-a0dd-ac69f270920b"
      },
      "execution_count": null,
      "outputs": [
        {
          "name": "stdout",
          "text": "GPU is enabled and available.\n",
          "output_type": "stream"
        }
      ]
    },
    {
      "cell_type": "markdown",
      "source": [
        "Splitting data into test data and train data"
      ],
      "metadata": {
        "id": "HrosAmYBXDuI"
      }
    },
    {
      "cell_type": "code",
      "source": [
        "from torch_geometric_temporal.signal import temporal_signal_split\n",
        "train_dataset, test_dataset = temporal_signal_split(dataset, train_ratio=0.8)\n",
        "\n",
        "print(\"Number of train buckets: \", len(train_dataset.features))\n",
        "print(\"Number of test buckets: \", len(test_dataset.features))"
      ],
      "metadata": {
        "execution": {
          "iopub.status.busy": "2024-09-12T13:49:13.443171Z",
          "iopub.execute_input": "2024-09-12T13:49:13.443589Z",
          "iopub.status.idle": "2024-09-12T13:49:13.450928Z",
          "shell.execute_reply.started": "2024-09-12T13:49:13.443549Z",
          "shell.execute_reply": "2024-09-12T13:49:13.449816Z"
        },
        "trusted": true,
        "id": "kakvrmQVOn5D",
        "outputId": "f1d48255-8796-43a8-cf14-94749377430e"
      },
      "execution_count": null,
      "outputs": [
        {
          "name": "stdout",
          "text": "Number of train buckets:  27399\nNumber of test buckets:  6850\n",
          "output_type": "stream"
        }
      ]
    },
    {
      "cell_type": "code",
      "source": [
        "shuffle=True\n",
        "batch_size = 32"
      ],
      "metadata": {
        "execution": {
          "iopub.status.busy": "2024-09-12T13:49:21.785877Z",
          "iopub.execute_input": "2024-09-12T13:49:21.786643Z",
          "iopub.status.idle": "2024-09-12T13:49:21.791026Z",
          "shell.execute_reply.started": "2024-09-12T13:49:21.7866Z",
          "shell.execute_reply": "2024-09-12T13:49:21.790063Z"
        },
        "trusted": true,
        "id": "S0dJIaj5On5F"
      },
      "execution_count": null,
      "outputs": []
    },
    {
      "cell_type": "markdown",
      "source": [
        "This code sets up data pipelines for training, validation, and testing a machine learning model using PyTorch. It converts training and test datasets into PyTorch tensors and splits the training data into training and validation sets based on a specified ratio. The code then creates `DataLoader` objects for each dataset, allowing for efficient batch processing and optional shuffling of training data. This setup ensures that the model is trained on a portion of the data, validated on another portion to tune hyperparameters, and tested on a separate dataset to evaluate its performance."
      ],
      "metadata": {
        "id": "qp9QfVRRYwKb"
      }
    },
    {
      "cell_type": "code",
      "source": [
        "import numpy as np\n",
        "import torch\n",
        "import torch.nn.functional as F\n",
        "from torch_geometric.nn import GCNConv\n",
        "from torch_geometric_temporal.nn.recurrent import A3TGCN2\n",
        "import pytorch_lightning as L\n",
        "from pytorch_lightning.callbacks import EarlyStopping, Timer\n",
        "from torch.utils.data import DataLoader, TensorDataset, random_split\n",
        "\n",
        "# Data Preparation\n",
        "def prepare_data(train_dataset, test_dataset, batch_size, val_split=0.1, shuffle=True):\n",
        "    # Prepare train data\n",
        "    train_input = np.array(train_dataset.features)\n",
        "    train_target = np.array(train_dataset.targets)\n",
        "    train_x_tensor = torch.from_numpy(train_input).type(torch.FloatTensor)\n",
        "    train_target_tensor = torch.from_numpy(train_target).type(torch.FloatTensor)\n",
        "\n",
        "    # Create validation split\n",
        "    dataset_size = len(train_x_tensor)\n",
        "    val_size = int(val_split * dataset_size)\n",
        "    train_size = dataset_size - val_size\n",
        "    train_dataset, val_dataset = random_split(TensorDataset(train_x_tensor, train_target_tensor),\n",
        "                                              [train_size, val_size])\n",
        "\n",
        "    # Create data loaders\n",
        "    train_loader = DataLoader(train_dataset, batch_size=batch_size, shuffle=shuffle, drop_last=True)\n",
        "    val_loader = DataLoader(val_dataset, batch_size=batch_size, shuffle=False, drop_last=True)\n",
        "\n",
        "    # Prepare test data\n",
        "    test_input = np.array(test_dataset.features)\n",
        "    test_target = np.array(test_dataset.targets)\n",
        "    test_x_tensor = torch.from_numpy(test_input).type(torch.FloatTensor)\n",
        "    test_target_tensor = torch.from_numpy(test_target).type(torch.FloatTensor)\n",
        "    test_dataset = TensorDataset(test_x_tensor, test_target_tensor)\n",
        "    test_loader = DataLoader(test_dataset, batch_size=batch_size, shuffle=False, drop_last=True)\n",
        "\n",
        "    return train_loader, val_loader, test_loader"
      ],
      "metadata": {
        "execution": {
          "iopub.status.busy": "2024-09-12T13:50:45.078878Z",
          "iopub.execute_input": "2024-09-12T13:50:45.079854Z",
          "iopub.status.idle": "2024-09-12T13:50:45.090895Z",
          "shell.execute_reply.started": "2024-09-12T13:50:45.079808Z",
          "shell.execute_reply": "2024-09-12T13:50:45.08985Z"
        },
        "trusted": true,
        "id": "itGxmxkMOn5G"
      },
      "execution_count": null,
      "outputs": []
    },
    {
      "cell_type": "markdown",
      "source": [
        "sets a random seed to ensure reproducibility in our project and to  helps in debugging."
      ],
      "metadata": {
        "id": "FcQahF5PY42c"
      }
    },
    {
      "cell_type": "code",
      "source": [
        "# Set random seed for reproducibility\n",
        "import numpy as np\n",
        "import random\n",
        "\n",
        "seed = 42\n",
        "torch.manual_seed(seed)\n",
        "np.random.seed(seed)\n",
        "random.seed(seed)"
      ],
      "metadata": {
        "execution": {
          "iopub.status.busy": "2024-09-12T13:50:48.283906Z",
          "iopub.execute_input": "2024-09-12T13:50:48.284671Z",
          "iopub.status.idle": "2024-09-12T13:50:48.296157Z",
          "shell.execute_reply.started": "2024-09-12T13:50:48.28463Z",
          "shell.execute_reply": "2024-09-12T13:50:48.295297Z"
        },
        "trusted": true,
        "id": "QKIqs9IvOn5G"
      },
      "execution_count": null,
      "outputs": []
    },
    {
      "cell_type": "markdown",
      "source": [
        "## 4- Creating the A3TGCN model"
      ],
      "metadata": {
        "id": "hUvO2f5NY67b"
      }
    },
    {
      "cell_type": "markdown",
      "source": [
        "The code below defines a PyTorch Lightning module for a temporal graph neural network (GNN). The `TemporalGNN` class initializes with a model architecture consisting of an `A3TGCN2` layer, followed by fully connected layers, dropout, and batch normalization. It includes methods for forward propagation (`forward`), training (`training_step`), validation (`validation_step`), and testing (`test_step`), each calculating and logging mean squared error (MSE) loss. The `configure_optimizers` method sets up an Adam optimizer with a learning rate scheduler that adjusts the learning rate based on validation loss. The `set_static_edge_index` method allows setting the static edge index for the GNN. This setup facilitates efficient training, validation, and testing of the temporal GNN model using PyTorch Lightning's features."
      ],
      "metadata": {
        "id": "uPklFE-mZle0"
      }
    },
    {
      "cell_type": "code",
      "source": [
        "from pytorch_lightning.callbacks import EarlyStopping, Timer, LearningRateMonitor\n",
        "from torch.utils.data import DataLoader, TensorDataset, random_split\n",
        "from pytorch_lightning.loggers import TensorBoardLogger\n",
        "\n",
        "class TemporalGNN(L.LightningModule):\n",
        "    def __init__(self, node_features, periods, batch_size, lr=0.001, weight_decay=1e-5):\n",
        "        super(TemporalGNN, self).__init__()\n",
        "        self.save_hyperparameters()\n",
        "        self.tgnn = A3TGCN2(in_channels=node_features, out_channels=64, periods=periods, batch_size=batch_size)\n",
        "        self.linear1 = torch.nn.Linear(64, 32)\n",
        "        self.linear2 = torch.nn.Linear(32, periods)\n",
        "        self.dropout = torch.nn.Dropout(p=0.2)\n",
        "        self.batch_norm = torch.nn.BatchNorm1d(64)\n",
        "\n",
        "    def forward(self, x, edge_index):\n",
        "        h = self.tgnn(x, edge_index)\n",
        "        h = self.batch_norm(h.transpose(1, 2)).transpose(1, 2)\n",
        "        h = F.relu(h)\n",
        "        h = self.dropout(h)\n",
        "        h = F.relu(self.linear1(h))\n",
        "        h = self.dropout(h)\n",
        "        h = self.linear2(h)\n",
        "        return h\n",
        "\n",
        "    def training_step(self, batch, batch_idx):\n",
        "        x, y = batch\n",
        "        y_hat = self(x, self.static_edge_index)\n",
        "        loss = F.mse_loss(y_hat, y)\n",
        "        self.log('train_loss', loss, prog_bar=True)\n",
        "        return loss\n",
        "\n",
        "    def validation_step(self, batch, batch_idx):\n",
        "        x, y = batch\n",
        "        y_hat = self(x, self.static_edge_index)\n",
        "        loss = F.mse_loss(y_hat, y)\n",
        "        self.log('val_loss', loss, prog_bar=True)\n",
        "        return loss\n",
        "\n",
        "    def test_step(self, batch, batch_idx):\n",
        "        x, y = batch\n",
        "        y_hat = self(x, self.static_edge_index)\n",
        "        loss = F.mse_loss(y_hat, y)\n",
        "        self.log('test_loss', loss)\n",
        "        return loss\n",
        "\n",
        "    def configure_optimizers(self):\n",
        "        optimizer = torch.optim.Adam(self.parameters(), lr=self.hparams.lr, weight_decay=self.hparams.weight_decay)\n",
        "        scheduler = torch.optim.lr_scheduler.ReduceLROnPlateau(optimizer, 'min', patience=5, factor=0.5)\n",
        "        return {\n",
        "            \"optimizer\": optimizer,\n",
        "            \"lr_scheduler\": {\n",
        "                \"scheduler\": scheduler,\n",
        "                \"monitor\": \"val_loss\",\n",
        "            },\n",
        "        }\n",
        "\n",
        "    def set_static_edge_index(self, static_edge_index):\n",
        "        self.static_edge_index = static_edge_index"
      ],
      "metadata": {
        "execution": {
          "iopub.status.busy": "2024-09-12T13:51:17.722182Z",
          "iopub.execute_input": "2024-09-12T13:51:17.722945Z",
          "iopub.status.idle": "2024-09-12T13:51:17.73895Z",
          "shell.execute_reply.started": "2024-09-12T13:51:17.722903Z",
          "shell.execute_reply": "2024-09-12T13:51:17.737581Z"
        },
        "trusted": true,
        "id": "LkRPBp_JOn5H"
      },
      "execution_count": null,
      "outputs": []
    },
    {
      "cell_type": "markdown",
      "source": [
        "The code below helps in understanding the model architecture by displaying the sizes of its parameters and verifies the optimizer's configuration.  \n",
        "1.  Model and Optimizer Creation:\n",
        "\n",
        "- It initializes an instance of the TemporalGNN model with specific parameters\n",
        "(node_features=2, periods=12, batch_size=batch_size) and moves it to the specified device (DEVICE).\n",
        "- It also creates an Adam optimizer for the model's parameters with a learning rate of 0.001 and a mean squared error (MSE) loss function.\n",
        "2.  Printing Model State Dictionary:\n",
        "\n",
        "- It prints the state dictionary of the model, which includes the names and sizes of all parameters (weights and biases) in the model.\n",
        "- It calculates and prints the total number of parameters in the model.\n",
        "3.  Printing Optimizer State Dictionary:\n",
        "\n",
        "- It prints the state dictionary of the optimizer, which contains information about the optimizer's internal state and parameter groups.\n",
        "- In this case, the optimizer's state is empty (indicating no accumulated state yet), and the param_groups shows the configuration of the optimizer, including the learning rate, betas, weight decay, and the list of parameter indices being optimized."
      ],
      "metadata": {
        "id": "ITZy5uG3aLKd"
      }
    },
    {
      "cell_type": "code",
      "source": [
        "# Create model and optimizers\n",
        "model = TemporalGNN(node_features=2, periods=12, batch_size=batch_size).to(DEVICE)\n",
        "optimizer = torch.optim.Adam(model.parameters(), lr=0.001)\n",
        "loss_fn = torch.nn.MSELoss()\n",
        "\n",
        "\n",
        "print('Net\\'s state_dict:')\n",
        "total_param = 0\n",
        "for param_tensor in model.state_dict():\n",
        "    print(param_tensor, '\\t', model.state_dict()[param_tensor].size())\n",
        "    total_param += np.prod(model.state_dict()[param_tensor].size())\n",
        "print('Net\\'s total params:', total_param)\n",
        "#--------------------------------------------------\n",
        "print('Optimizer\\'s state_dict:')\n",
        "for var_name in optimizer.state_dict():\n",
        "    print(var_name, '\\t', optimizer.state_dict()[var_name])"
      ],
      "metadata": {
        "execution": {
          "iopub.status.busy": "2024-09-12T13:51:22.094202Z",
          "iopub.execute_input": "2024-09-12T13:51:22.094669Z",
          "iopub.status.idle": "2024-09-12T13:51:22.364299Z",
          "shell.execute_reply.started": "2024-09-12T13:51:22.094625Z",
          "shell.execute_reply": "2024-09-12T13:51:22.363279Z"
        },
        "trusted": true,
        "id": "B60msGvsOn5H",
        "outputId": "57376088-9670-474d-8330-4526fa53624e"
      },
      "execution_count": null,
      "outputs": [
        {
          "name": "stdout",
          "text": "Net's state_dict:\ntgnn._attention \t torch.Size([12])\ntgnn._base_tgcn.conv_z.bias \t torch.Size([64])\ntgnn._base_tgcn.conv_z.lin.weight \t torch.Size([64, 2])\ntgnn._base_tgcn.linear_z.weight \t torch.Size([64, 128])\ntgnn._base_tgcn.linear_z.bias \t torch.Size([64])\ntgnn._base_tgcn.conv_r.bias \t torch.Size([64])\ntgnn._base_tgcn.conv_r.lin.weight \t torch.Size([64, 2])\ntgnn._base_tgcn.linear_r.weight \t torch.Size([64, 128])\ntgnn._base_tgcn.linear_r.bias \t torch.Size([64])\ntgnn._base_tgcn.conv_h.bias \t torch.Size([64])\ntgnn._base_tgcn.conv_h.lin.weight \t torch.Size([64, 2])\ntgnn._base_tgcn.linear_h.weight \t torch.Size([64, 128])\ntgnn._base_tgcn.linear_h.bias \t torch.Size([64])\nlinear1.weight \t torch.Size([32, 64])\nlinear1.bias \t torch.Size([32])\nlinear2.weight \t torch.Size([12, 32])\nlinear2.bias \t torch.Size([12])\nbatch_norm.weight \t torch.Size([64])\nbatch_norm.bias \t torch.Size([64])\nbatch_norm.running_mean \t torch.Size([64])\nbatch_norm.running_var \t torch.Size([64])\nbatch_norm.num_batches_tracked \t torch.Size([])\nNet's total params: 28089.0\nOptimizer's state_dict:\nstate \t {}\nparam_groups \t [{'lr': 0.001, 'betas': (0.9, 0.999), 'eps': 1e-08, 'weight_decay': 0, 'amsgrad': False, 'maximize': False, 'foreach': None, 'capturable': False, 'differentiable': False, 'fused': None, 'params': [0, 1, 2, 3, 4, 5, 6, 7, 8, 9, 10, 11, 12, 13, 14, 15, 16, 17, 18]}]\n",
          "output_type": "stream"
        }
      ]
    },
    {
      "cell_type": "markdown",
      "source": [],
      "metadata": {
        "id": "qy3-eqrmbFfd"
      }
    },
    {
      "cell_type": "markdown",
      "source": [
        "since we have a static graph data (the chape of the data edges dont change over time) we can extracts the edge index of the first snapshot from the train_dataset and moves it to the specified device (DEVICE) to get a sample edge index for further use, such as initializing or inspecting graph data."
      ],
      "metadata": {
        "id": "FthBbSi_ZSZK"
      }
    },
    {
      "cell_type": "code",
      "source": [
        "for snapshot in train_dataset:\n",
        "    static_edge_index = snapshot.edge_index.to(DEVICE)\n",
        "    break;"
      ],
      "metadata": {
        "execution": {
          "iopub.status.busy": "2024-09-12T13:52:33.01519Z",
          "iopub.execute_input": "2024-09-12T13:52:33.01577Z",
          "iopub.status.idle": "2024-09-12T13:52:33.022476Z",
          "shell.execute_reply.started": "2024-09-12T13:52:33.015706Z",
          "shell.execute_reply": "2024-09-12T13:52:33.021245Z"
        },
        "trusted": true,
        "id": "cqiI2w3ZOn5I"
      },
      "execution_count": null,
      "outputs": []
    },
    {
      "cell_type": "markdown",
      "source": [
        "This code snippet sets up the environment for training a temporal graph neural network (GNN) model using PyTorch and PyTorch Lightning. It first checks if a GPU is available and sets the device accordingly. The data is prepared by creating data loaders for training, validation, and testing using the `prepare_data` function. The `TemporalGNN` model is then instantiated with specific parameters, such as the number of node features, periods, batch size, learning rate, and weight decay. The model's static edge index, which represents the graph structure, is set on the chosen device (GPU or CPU).\n",
        "\n",
        "To manage the training process, two callbacks are set up: a `Timer` to monitor the training duration and `EarlyStopping` to halt training if the validation loss does not improve for 10 consecutive epochs. These callbacks are stored in a list and can be passed to the PyTorch Lightning trainer to enhance the training process with time tracking and early stopping mechanisms."
      ],
      "metadata": {
        "id": "4d7a-weYbC_P"
      }
    },
    {
      "cell_type": "code",
      "source": [
        "# Usage example\n",
        "DEVICE = torch.device('cuda' if torch.cuda.is_available() else 'cpu')\n",
        "batch_size = 32\n",
        "\n",
        "# Prepare data\n",
        "train_loader, val_loader, test_loader = prepare_data(train_dataset, test_dataset, batch_size)\n",
        "\n",
        "# Create model\n",
        "model = TemporalGNN(node_features=2, periods=12, batch_size=batch_size, lr=0.001, weight_decay=1e-5)\n",
        "model.set_static_edge_index(static_edge_index.to(DEVICE))\n",
        "\n",
        "# Setup callbacks\n",
        "timer = Timer()\n",
        "early_stopping = EarlyStopping(patience=10, monitor=\"val_loss\", mode=\"min\")\n",
        "callbacks = [timer, early_stopping]"
      ],
      "metadata": {
        "execution": {
          "iopub.status.busy": "2024-09-12T13:52:34.634748Z",
          "iopub.execute_input": "2024-09-12T13:52:34.63516Z",
          "iopub.status.idle": "2024-09-12T13:52:35.241806Z",
          "shell.execute_reply.started": "2024-09-12T13:52:34.635121Z",
          "shell.execute_reply": "2024-09-12T13:52:35.240889Z"
        },
        "trusted": true,
        "id": "XCXVK8tpOn5I"
      },
      "execution_count": null,
      "outputs": []
    },
    {
      "cell_type": "markdown",
      "source": [
        "This code snippet initializes a PyTorch Lightning `Trainer` to manage the training process for the temporal GNN model. The `Trainer` is configured to use a GPU if available; otherwise, it defaults to the CPU. It sets the number of devices to 1, meaning the model will be trained on a single device (GPU or CPU). The `num_sanity_val_steps` parameter is set to 0, which skips any initial validation sanity checks, allowing for a quicker start. The previously defined `callbacks` list (which includes the `Timer` and `EarlyStopping`) is passed to manage the training duration and implement early stopping. The training is set to run for a maximum of 200 epochs, and the logs will be saved to the default directory `\"./lightning_logs\"`.\n",
        "\n",
        "The `trainer.fit()` method is then called to start the training process, using the specified model, training data loader (`train_loader`), and validation data loader (`val_loader`). During the training, the model's performance is evaluated at each epoch, here the training stops after 47 epochs with a final training loss of 0.538 and a validation loss of 0.440. These results suggest that the model is learning to generalize well to unseen data, as indicated by the decreasing loss values over the epochs.\n",
        "\n",
        "(since the model was trained in kaggle if you are opening the code file in jupyter or google colab the output might seem off)\n",
        "\n",
        "![Screenshot 2024-09-13 183438.png](data:image/png;base64,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)"
      ],
      "metadata": {
        "id": "Xs2Ky0fAcW5f"
      }
    },
    {
      "cell_type": "code",
      "source": [
        "# Create trainer\n",
        "trainer = L.Trainer(\n",
        "    accelerator=\"gpu\" if torch.cuda.is_available() else \"cpu\",\n",
        "    devices=1,\n",
        "    num_sanity_val_steps=0,\n",
        "    callbacks=callbacks,\n",
        "    max_epochs=200,\n",
        "    default_root_dir=\"./lightning_logs\"\n",
        ")\n",
        "\n",
        "# Start training\n",
        "trainer.fit(model, train_loader, val_loader)"
      ],
      "metadata": {
        "execution": {
          "iopub.status.busy": "2024-09-12T13:53:26.05615Z",
          "iopub.execute_input": "2024-09-12T13:53:26.056654Z",
          "iopub.status.idle": "2024-09-12T14:43:51.825868Z",
          "shell.execute_reply.started": "2024-09-12T13:53:26.056607Z",
          "shell.execute_reply": "2024-09-12T14:43:51.825009Z"
        },
        "trusted": true,
        "id": "LNL7iU8KOn5J",
        "outputId": "3a549e74-c3aa-4ab0-a6ea-5e4224d1af49",
        "colab": {
          "referenced_widgets": [
            "3dfa845e78e245bca307b7db36da7d80",
            ""
          ]
        }
      },
      "execution_count": null,
      "outputs": [
        {
          "output_type": "display_data",
          "data": {
            "text/plain": "Training: |          | 0/? [00:00<?, ?it/s]",
            "application/vnd.jupyter.widget-view+json": {
              "version_major": 2,
              "version_minor": 0,
              "model_id": "3dfa845e78e245bca307b7db36da7d80"
            }
          },
          "metadata": {}
        },
        {
          "output_type": "display_data",
          "data": {
            "text/plain": "Validation: |          | 0/? [00:00<?, ?it/s]",
            "application/vnd.jupyter.widget-view+json": {
              "version_major": 2,
              "version_minor": 0,
              "model_id": ""
            }
          },
          "metadata": {}
        },
        {
          "output_type": "display_data",
          "data": {
            "text/plain": "Validation: |          | 0/? [00:00<?, ?it/s]",
            "application/vnd.jupyter.widget-view+json": {
              "version_major": 2,
              "version_minor": 0,
              "model_id": ""
            }
          },
          "metadata": {}
        },
        {
          "output_type": "display_data",
          "data": {
            "text/plain": "Validation: |          | 0/? [00:00<?, ?it/s]",
            "application/vnd.jupyter.widget-view+json": {
              "version_major": 2,
              "version_minor": 0,
              "model_id": ""
            }
          },
          "metadata": {}
        },
        {
          "output_type": "display_data",
          "data": {
            "text/plain": "Validation: |          | 0/? [00:00<?, ?it/s]",
            "application/vnd.jupyter.widget-view+json": {
              "version_major": 2,
              "version_minor": 0,
              "model_id": ""
            }
          },
          "metadata": {}
        },
        {
          "output_type": "display_data",
          "data": {
            "text/plain": "Validation: |          | 0/? [00:00<?, ?it/s]",
            "application/vnd.jupyter.widget-view+json": {
              "version_major": 2,
              "version_minor": 0,
              "model_id": ""
            }
          },
          "metadata": {}
        },
        {
          "output_type": "display_data",
          "data": {
            "text/plain": "Validation: |          | 0/? [00:00<?, ?it/s]",
            "application/vnd.jupyter.widget-view+json": {
              "version_major": 2,
              "version_minor": 0,
              "model_id": ""
            }
          },
          "metadata": {}
        },
        {
          "output_type": "display_data",
          "data": {
            "text/plain": "Validation: |          | 0/? [00:00<?, ?it/s]",
            "application/vnd.jupyter.widget-view+json": {
              "version_major": 2,
              "version_minor": 0,
              "model_id": ""
            }
          },
          "metadata": {}
        },
        {
          "output_type": "display_data",
          "data": {
            "text/plain": "Validation: |          | 0/? [00:00<?, ?it/s]",
            "application/vnd.jupyter.widget-view+json": {
              "version_major": 2,
              "version_minor": 0,
              "model_id": ""
            }
          },
          "metadata": {}
        },
        {
          "output_type": "display_data",
          "data": {
            "text/plain": "Validation: |          | 0/? [00:00<?, ?it/s]",
            "application/vnd.jupyter.widget-view+json": {
              "version_major": 2,
              "version_minor": 0,
              "model_id": ""
            }
          },
          "metadata": {}
        },
        {
          "output_type": "display_data",
          "data": {
            "text/plain": "Validation: |          | 0/? [00:00<?, ?it/s]",
            "application/vnd.jupyter.widget-view+json": {
              "version_major": 2,
              "version_minor": 0,
              "model_id": ""
            }
          },
          "metadata": {}
        },
        {
          "output_type": "display_data",
          "data": {
            "text/plain": "Validation: |          | 0/? [00:00<?, ?it/s]",
            "application/vnd.jupyter.widget-view+json": {
              "version_major": 2,
              "version_minor": 0,
              "model_id": ""
            }
          },
          "metadata": {}
        },
        {
          "output_type": "display_data",
          "data": {
            "text/plain": "Validation: |          | 0/? [00:00<?, ?it/s]",
            "application/vnd.jupyter.widget-view+json": {
              "version_major": 2,
              "version_minor": 0,
              "model_id": ""
            }
          },
          "metadata": {}
        },
        {
          "output_type": "display_data",
          "data": {
            "text/plain": "Validation: |          | 0/? [00:00<?, ?it/s]",
            "application/vnd.jupyter.widget-view+json": {
              "version_major": 2,
              "version_minor": 0,
              "model_id": ""
            }
          },
          "metadata": {}
        },
        {
          "output_type": "display_data",
          "data": {
            "text/plain": "Validation: |          | 0/? [00:00<?, ?it/s]",
            "application/vnd.jupyter.widget-view+json": {
              "version_major": 2,
              "version_minor": 0,
              "model_id": ""
            }
          },
          "metadata": {}
        },
        {
          "output_type": "display_data",
          "data": {
            "text/plain": "Validation: |          | 0/? [00:00<?, ?it/s]",
            "application/vnd.jupyter.widget-view+json": {
              "version_major": 2,
              "version_minor": 0,
              "model_id": ""
            }
          },
          "metadata": {}
        },
        {
          "output_type": "display_data",
          "data": {
            "text/plain": "Validation: |          | 0/? [00:00<?, ?it/s]",
            "application/vnd.jupyter.widget-view+json": {
              "version_major": 2,
              "version_minor": 0,
              "model_id": ""
            }
          },
          "metadata": {}
        },
        {
          "output_type": "display_data",
          "data": {
            "text/plain": "Validation: |          | 0/? [00:00<?, ?it/s]",
            "application/vnd.jupyter.widget-view+json": {
              "version_major": 2,
              "version_minor": 0,
              "model_id": ""
            }
          },
          "metadata": {}
        },
        {
          "output_type": "display_data",
          "data": {
            "text/plain": "Validation: |          | 0/? [00:00<?, ?it/s]",
            "application/vnd.jupyter.widget-view+json": {
              "version_major": 2,
              "version_minor": 0,
              "model_id": ""
            }
          },
          "metadata": {}
        },
        {
          "output_type": "display_data",
          "data": {
            "text/plain": "Validation: |          | 0/? [00:00<?, ?it/s]",
            "application/vnd.jupyter.widget-view+json": {
              "version_major": 2,
              "version_minor": 0,
              "model_id": ""
            }
          },
          "metadata": {}
        },
        {
          "output_type": "display_data",
          "data": {
            "text/plain": "Validation: |          | 0/? [00:00<?, ?it/s]",
            "application/vnd.jupyter.widget-view+json": {
              "version_major": 2,
              "version_minor": 0,
              "model_id": ""
            }
          },
          "metadata": {}
        },
        {
          "output_type": "display_data",
          "data": {
            "text/plain": "Validation: |          | 0/? [00:00<?, ?it/s]",
            "application/vnd.jupyter.widget-view+json": {
              "version_major": 2,
              "version_minor": 0,
              "model_id": ""
            }
          },
          "metadata": {}
        },
        {
          "output_type": "display_data",
          "data": {
            "text/plain": "Validation: |          | 0/? [00:00<?, ?it/s]",
            "application/vnd.jupyter.widget-view+json": {
              "version_major": 2,
              "version_minor": 0,
              "model_id": ""
            }
          },
          "metadata": {}
        },
        {
          "output_type": "display_data",
          "data": {
            "text/plain": "Validation: |          | 0/? [00:00<?, ?it/s]",
            "application/vnd.jupyter.widget-view+json": {
              "version_major": 2,
              "version_minor": 0,
              "model_id": ""
            }
          },
          "metadata": {}
        },
        {
          "output_type": "display_data",
          "data": {
            "text/plain": "Validation: |          | 0/? [00:00<?, ?it/s]",
            "application/vnd.jupyter.widget-view+json": {
              "version_major": 2,
              "version_minor": 0,
              "model_id": ""
            }
          },
          "metadata": {}
        },
        {
          "output_type": "display_data",
          "data": {
            "text/plain": "Validation: |          | 0/? [00:00<?, ?it/s]",
            "application/vnd.jupyter.widget-view+json": {
              "version_major": 2,
              "version_minor": 0,
              "model_id": ""
            }
          },
          "metadata": {}
        },
        {
          "output_type": "display_data",
          "data": {
            "text/plain": "Validation: |          | 0/? [00:00<?, ?it/s]",
            "application/vnd.jupyter.widget-view+json": {
              "version_major": 2,
              "version_minor": 0,
              "model_id": ""
            }
          },
          "metadata": {}
        },
        {
          "output_type": "display_data",
          "data": {
            "text/plain": "Validation: |          | 0/? [00:00<?, ?it/s]",
            "application/vnd.jupyter.widget-view+json": {
              "version_major": 2,
              "version_minor": 0,
              "model_id": ""
            }
          },
          "metadata": {}
        },
        {
          "output_type": "display_data",
          "data": {
            "text/plain": "Validation: |          | 0/? [00:00<?, ?it/s]",
            "application/vnd.jupyter.widget-view+json": {
              "version_major": 2,
              "version_minor": 0,
              "model_id": ""
            }
          },
          "metadata": {}
        },
        {
          "output_type": "display_data",
          "data": {
            "text/plain": "Validation: |          | 0/? [00:00<?, ?it/s]",
            "application/vnd.jupyter.widget-view+json": {
              "version_major": 2,
              "version_minor": 0,
              "model_id": ""
            }
          },
          "metadata": {}
        },
        {
          "output_type": "display_data",
          "data": {
            "text/plain": "Validation: |          | 0/? [00:00<?, ?it/s]",
            "application/vnd.jupyter.widget-view+json": {
              "version_major": 2,
              "version_minor": 0,
              "model_id": ""
            }
          },
          "metadata": {}
        },
        {
          "output_type": "display_data",
          "data": {
            "text/plain": "Validation: |          | 0/? [00:00<?, ?it/s]",
            "application/vnd.jupyter.widget-view+json": {
              "version_major": 2,
              "version_minor": 0,
              "model_id": ""
            }
          },
          "metadata": {}
        },
        {
          "output_type": "display_data",
          "data": {
            "text/plain": "Validation: |          | 0/? [00:00<?, ?it/s]",
            "application/vnd.jupyter.widget-view+json": {
              "version_major": 2,
              "version_minor": 0,
              "model_id": ""
            }
          },
          "metadata": {}
        },
        {
          "output_type": "display_data",
          "data": {
            "text/plain": "Validation: |          | 0/? [00:00<?, ?it/s]",
            "application/vnd.jupyter.widget-view+json": {
              "version_major": 2,
              "version_minor": 0,
              "model_id": ""
            }
          },
          "metadata": {}
        },
        {
          "output_type": "display_data",
          "data": {
            "text/plain": "Validation: |          | 0/? [00:00<?, ?it/s]",
            "application/vnd.jupyter.widget-view+json": {
              "version_major": 2,
              "version_minor": 0,
              "model_id": ""
            }
          },
          "metadata": {}
        },
        {
          "output_type": "display_data",
          "data": {
            "text/plain": "Validation: |          | 0/? [00:00<?, ?it/s]",
            "application/vnd.jupyter.widget-view+json": {
              "version_major": 2,
              "version_minor": 0,
              "model_id": ""
            }
          },
          "metadata": {}
        },
        {
          "output_type": "display_data",
          "data": {
            "text/plain": "Validation: |          | 0/? [00:00<?, ?it/s]",
            "application/vnd.jupyter.widget-view+json": {
              "version_major": 2,
              "version_minor": 0,
              "model_id": ""
            }
          },
          "metadata": {}
        },
        {
          "output_type": "display_data",
          "data": {
            "text/plain": "Validation: |          | 0/? [00:00<?, ?it/s]",
            "application/vnd.jupyter.widget-view+json": {
              "version_major": 2,
              "version_minor": 0,
              "model_id": ""
            }
          },
          "metadata": {}
        },
        {
          "output_type": "display_data",
          "data": {
            "text/plain": "Validation: |          | 0/? [00:00<?, ?it/s]",
            "application/vnd.jupyter.widget-view+json": {
              "version_major": 2,
              "version_minor": 0,
              "model_id": ""
            }
          },
          "metadata": {}
        },
        {
          "output_type": "display_data",
          "data": {
            "text/plain": "Validation: |          | 0/? [00:00<?, ?it/s]",
            "application/vnd.jupyter.widget-view+json": {
              "version_major": 2,
              "version_minor": 0,
              "model_id": ""
            }
          },
          "metadata": {}
        },
        {
          "output_type": "display_data",
          "data": {
            "text/plain": "Validation: |          | 0/? [00:00<?, ?it/s]",
            "application/vnd.jupyter.widget-view+json": {
              "version_major": 2,
              "version_minor": 0,
              "model_id": ""
            }
          },
          "metadata": {}
        },
        {
          "output_type": "display_data",
          "data": {
            "text/plain": "Validation: |          | 0/? [00:00<?, ?it/s]",
            "application/vnd.jupyter.widget-view+json": {
              "version_major": 2,
              "version_minor": 0,
              "model_id": ""
            }
          },
          "metadata": {}
        },
        {
          "output_type": "display_data",
          "data": {
            "text/plain": "Validation: |          | 0/? [00:00<?, ?it/s]",
            "application/vnd.jupyter.widget-view+json": {
              "version_major": 2,
              "version_minor": 0,
              "model_id": ""
            }
          },
          "metadata": {}
        },
        {
          "output_type": "display_data",
          "data": {
            "text/plain": "Validation: |          | 0/? [00:00<?, ?it/s]",
            "application/vnd.jupyter.widget-view+json": {
              "version_major": 2,
              "version_minor": 0,
              "model_id": ""
            }
          },
          "metadata": {}
        },
        {
          "output_type": "display_data",
          "data": {
            "text/plain": "Validation: |          | 0/? [00:00<?, ?it/s]",
            "application/vnd.jupyter.widget-view+json": {
              "version_major": 2,
              "version_minor": 0,
              "model_id": ""
            }
          },
          "metadata": {}
        },
        {
          "output_type": "display_data",
          "data": {
            "text/plain": "Validation: |          | 0/? [00:00<?, ?it/s]",
            "application/vnd.jupyter.widget-view+json": {
              "version_major": 2,
              "version_minor": 0,
              "model_id": ""
            }
          },
          "metadata": {}
        },
        {
          "output_type": "display_data",
          "data": {
            "text/plain": "Validation: |          | 0/? [00:00<?, ?it/s]",
            "application/vnd.jupyter.widget-view+json": {
              "version_major": 2,
              "version_minor": 0,
              "model_id": ""
            }
          },
          "metadata": {}
        },
        {
          "output_type": "display_data",
          "data": {
            "text/plain": "Validation: |          | 0/? [00:00<?, ?it/s]",
            "application/vnd.jupyter.widget-view+json": {
              "version_major": 2,
              "version_minor": 0,
              "model_id": ""
            }
          },
          "metadata": {}
        },
        {
          "output_type": "display_data",
          "data": {
            "text/plain": "Validation: |          | 0/? [00:00<?, ?it/s]",
            "application/vnd.jupyter.widget-view+json": {
              "version_major": 2,
              "version_minor": 0,
              "model_id": ""
            }
          },
          "metadata": {}
        }
      ]
    },
    {
      "cell_type": "code",
      "source": [
        "# Load the best model checkpoint after training\n",
        "best_model = TemporalGNN.load_from_checkpoint(trainer.checkpoint_callback.best_model_path)\n",
        "\n",
        "# Ensure the model is on the correct device\n",
        "best_model.to(DEVICE)\n"
      ],
      "metadata": {
        "execution": {
          "iopub.status.busy": "2024-09-12T14:59:25.977571Z",
          "iopub.execute_input": "2024-09-12T14:59:25.977977Z",
          "iopub.status.idle": "2024-09-12T14:59:26.066359Z",
          "shell.execute_reply.started": "2024-09-12T14:59:25.977942Z",
          "shell.execute_reply": "2024-09-12T14:59:26.065403Z"
        },
        "trusted": true,
        "id": "SQPr4PucOn5K",
        "outputId": "a3da2022-2563-42b5-bd87-1ee8e40eb49f"
      },
      "execution_count": null,
      "outputs": [
        {
          "execution_count": 38,
          "output_type": "execute_result",
          "data": {
            "text/plain": "TemporalGNN(\n  (tgnn): A3TGCN2(\n    (_base_tgcn): TGCN2(\n      (conv_z): GCNConv(2, 64)\n      (linear_z): Linear(in_features=128, out_features=64, bias=True)\n      (conv_r): GCNConv(2, 64)\n      (linear_r): Linear(in_features=128, out_features=64, bias=True)\n      (conv_h): GCNConv(2, 64)\n      (linear_h): Linear(in_features=128, out_features=64, bias=True)\n    )\n  )\n  (linear1): Linear(in_features=64, out_features=32, bias=True)\n  (linear2): Linear(in_features=32, out_features=12, bias=True)\n  (dropout): Dropout(p=0.2, inplace=False)\n  (batch_norm): BatchNorm1d(64, eps=1e-05, momentum=0.1, affine=True, track_running_stats=True)\n)"
          },
          "metadata": {}
        }
      ]
    },
    {
      "cell_type": "markdown",
      "source": [
        "## 5-Evaluation"
      ],
      "metadata": {
        "id": "GPUNX-jJdgP_"
      }
    },
    {
      "cell_type": "markdown",
      "source": [
        "code snippet ensures that the model and its associated data are transferred to the appropriate device (GPU or CPU) for computation."
      ],
      "metadata": {
        "id": "ldqZ-Faedt-Z"
      }
    },
    {
      "cell_type": "code",
      "source": [
        "model = model.to(DEVICE)\n",
        "model.static_edge_index = model.static_edge_index.to(DEVICE)\n",
        "DEVICE = torch.device('cuda' if torch.cuda.is_available() else 'cpu')"
      ],
      "metadata": {
        "execution": {
          "iopub.status.busy": "2024-09-12T15:08:57.565464Z",
          "iopub.execute_input": "2024-09-12T15:08:57.565918Z",
          "iopub.status.idle": "2024-09-12T15:08:57.574131Z",
          "shell.execute_reply.started": "2024-09-12T15:08:57.565878Z",
          "shell.execute_reply": "2024-09-12T15:08:57.572821Z"
        },
        "trusted": true,
        "id": "uCrTVvfMOn5L"
      },
      "execution_count": null,
      "outputs": []
    },
    {
      "cell_type": "markdown",
      "source": [
        "the code below defines a function, `evaluate_model`, that evaluates a trained model's performance on a given dataset using a DataLoader in PyTorch. The function sets the model to evaluation mode with `model.eval()`, which disables dropout layers and other training-specific behaviors, ensuring consistent and accurate predictions. It initializes empty lists for `predictions` and `targets` to store the predicted and actual values, respectively.\n",
        "\n",
        "During the evaluation loop, the function iterates through the dataset (`data_loader`) without computing gradients (`torch.no_grad()`), which reduces memory usage and speeds up computation. For each batch, the input data (`x`) and target values (`y`) are transferred to the specified device (GPU or CPU). The model predicts output (`y_hat`) using the input data and its static graph structure (`static_edge_index`), which is also moved to the correct device. The predicted values (`y_hat`) and actual target values (`y`) are then converted to NumPy arrays and stored. Finally, the function concatenates all predictions and targets into single arrays and returns them for further evaluation."
      ],
      "metadata": {
        "id": "rTkPslYOeUhz"
      }
    },
    {
      "cell_type": "code",
      "source": [
        "import matplotlib.pyplot as plt\n",
        "import numpy as np\n",
        "import torch\n",
        "from sklearn.metrics import mean_squared_error, mean_absolute_error, r2_score\n",
        "\n",
        "def evaluate_model(model, data_loader, device):\n",
        "    model.eval()\n",
        "    predictions = []\n",
        "    targets = []\n",
        "\n",
        "    with torch.no_grad():\n",
        "        for batch in data_loader:\n",
        "            x, y = batch\n",
        "            x = x.to(device)\n",
        "            y = y.to(device)\n",
        "\n",
        "            # Ensure static_edge_index is on the correct device\n",
        "            static_edge_index = model.static_edge_index.to(device)\n",
        "\n",
        "            y_hat = model(x, static_edge_index)\n",
        "\n",
        "            predictions.append(y_hat.cpu().numpy())\n",
        "            targets.append(y.cpu().numpy())\n",
        "\n",
        "    predictions = np.concatenate(predictions, axis=0)\n",
        "    targets = np.concatenate(targets, axis=0)\n",
        "\n",
        "    return predictions, targets"
      ],
      "metadata": {
        "execution": {
          "iopub.status.busy": "2024-09-12T15:10:09.276088Z",
          "iopub.execute_input": "2024-09-12T15:10:09.276563Z",
          "iopub.status.idle": "2024-09-12T15:10:09.287645Z",
          "shell.execute_reply.started": "2024-09-12T15:10:09.276477Z",
          "shell.execute_reply": "2024-09-12T15:10:09.286723Z"
        },
        "trusted": true,
        "id": "m--dYTnlOn5L"
      },
      "execution_count": null,
      "outputs": []
    },
    {
      "cell_type": "markdown",
      "source": [
        "the code below defines a function, `calculate_metrics`, which computes three common regression evaluation metrics — Mean Squared Error (MSE), Mean Absolute Error (MAE), and the Coefficient of Determination (R²) — for model predictions compared to actual target values. The function first checks if the `predictions` and `targets` arrays are 3-dimensional (typically due to multiple outputs or time steps) and, if so, reshapes them into 2-dimensional arrays for easier metric computation.\n",
        "\n",
        "If the reshaped arrays remain 2-dimensional with multiple output features, the function calculates each metric (MSE, MAE, R²) separately for each feature and then computes their average. If the arrays are 1-dimensional or have only one output feature, the function directly calculates the metrics. Finally, it returns the averaged MSE, MAE, and R² scores, which quantify the model's prediction accuracy and goodness of fit to the true values."
      ],
      "metadata": {
        "id": "aOL-nMo3fH4u"
      }
    },
    {
      "cell_type": "code",
      "source": [
        "import numpy as np\n",
        "from sklearn.metrics import mean_squared_error, mean_absolute_error, r2_score\n",
        "\n",
        "def calculate_metrics(predictions, targets):\n",
        "    # Reshape predictions and targets to 2D if they're 3D\n",
        "    if predictions.ndim == 3:\n",
        "        predictions = predictions.reshape(-1, predictions.shape[-1])\n",
        "    if targets.ndim == 3:\n",
        "        targets = targets.reshape(-1, targets.shape[-1])\n",
        "\n",
        "    # If the reshaped arrays are still 2D (multiple output features),\n",
        "    # calculate metrics for each feature\n",
        "    if predictions.ndim == 2 and predictions.shape[1] > 1:\n",
        "        mse = np.mean([mean_squared_error(targets[:, i], predictions[:, i]) for i in range(predictions.shape[1])])\n",
        "        mae = np.mean([mean_absolute_error(targets[:, i], predictions[:, i]) for i in range(predictions.shape[1])])\n",
        "        r2 = np.mean([r2_score(targets[:, i], predictions[:, i]) for i in range(predictions.shape[1])])\n",
        "    else:\n",
        "        # If it's 1D or has only one feature, calculate metrics directly\n",
        "        mse = mean_squared_error(targets, predictions)\n",
        "        mae = mean_absolute_error(targets, predictions)\n",
        "        r2 = r2_score(targets, predictions)\n",
        "\n",
        "    return mse, mae, r2"
      ],
      "metadata": {
        "execution": {
          "iopub.status.busy": "2024-09-12T15:16:12.906247Z",
          "iopub.execute_input": "2024-09-12T15:16:12.906697Z",
          "iopub.status.idle": "2024-09-12T15:16:12.917526Z",
          "shell.execute_reply.started": "2024-09-12T15:16:12.906656Z",
          "shell.execute_reply": "2024-09-12T15:16:12.916517Z"
        },
        "trusted": true,
        "id": "7QJz91-4On5M"
      },
      "execution_count": null,
      "outputs": []
    },
    {
      "cell_type": "code",
      "source": [
        "import matplotlib.pyplot as plt\n",
        "import numpy as np\n",
        "\n",
        "def plot_predictions_vs_targets(predictions, targets):\n",
        "    # Reshape if 3D\n",
        "    if predictions.ndim == 3:\n",
        "        predictions = predictions.reshape(-1, predictions.shape[-1])\n",
        "    if targets.ndim == 3:\n",
        "        targets = targets.reshape(-1, targets.shape[-1])\n",
        "\n",
        "    plt.figure(figsize=(10, 6))\n",
        "    plt.scatter(targets.flatten(), predictions.flatten(), alpha=0.5)\n",
        "    plt.plot([targets.min(), targets.max()], [targets.min(), targets.max()], 'r--', lw=2)\n",
        "    plt.xlabel('True Values')\n",
        "    plt.ylabel('Predictions')\n",
        "    plt.title('Predictions vs True Values')\n",
        "    plt.show()\n",
        "\n",
        "def plot_residuals(predictions, targets):\n",
        "    # Reshape if 3D\n",
        "    if predictions.ndim == 3:\n",
        "        predictions = predictions.reshape(-1, predictions.shape[-1])\n",
        "    if targets.ndim == 3:\n",
        "        targets = targets.reshape(-1, targets.shape[-1])\n",
        "\n",
        "    residuals = predictions - targets\n",
        "\n",
        "    plt.figure(figsize=(10, 6))\n",
        "    plt.scatter(targets.flatten(), residuals.flatten(), alpha=0.5)\n",
        "    plt.axhline(y=0, color='r', linestyle='--')\n",
        "    plt.xlabel('True Values')\n",
        "    plt.ylabel('Residuals')\n",
        "    plt.title('Residual Plot')\n",
        "    plt.show()"
      ],
      "metadata": {
        "execution": {
          "iopub.status.busy": "2024-09-12T15:16:28.654481Z",
          "iopub.execute_input": "2024-09-12T15:16:28.654958Z",
          "iopub.status.idle": "2024-09-12T15:16:28.666315Z",
          "shell.execute_reply.started": "2024-09-12T15:16:28.654916Z",
          "shell.execute_reply": "2024-09-12T15:16:28.665324Z"
        },
        "trusted": true,
        "id": "mOAjjP-eOn5N"
      },
      "execution_count": null,
      "outputs": []
    },
    {
      "cell_type": "markdown",
      "source": [
        "The code evaluates a machine learning model's performance using a test dataset by calculating regression metrics such as Mean Squared Error (MSE), Mean Absolute Error (MAE), and R-squared (R²). It retrieves predictions and actual targets from the model, computes these metrics to assess accuracy, and prints the results. Additionally, it plots predictions versus targets and generates a residual plot to show errors between predicted and true values.\n",
        "\n",
        "Visualization Analysis\n",
        "The residual plot reveals a triangular pattern where residuals decrease linearly with increasing true values. This suggests potential issues:\n",
        "\n",
        "Non-Linearity: The linear pattern in residuals might indicate that the model is not capturing the data’s true relationship well. The model could be too simplistic, or the relationship between features and targets might be more complex than the model can handle.\n",
        "\n",
        "Heteroscedasticity: The triangular distribution may suggest changing variance of residuals with true values, which could indicate biased predictions and reduced model reliability.\n",
        "\n",
        "Model and Data Issues: The relatively high MSE and MAE, and moderate R² score, imply that the model struggles to explain data variability. This, combined with the unusual residual pattern, could point to data issues or the need for model adjustments.\n",
        "\n",
        "In summary, the residual plot suggests the model may need further tuning or data preprocessing to improve performance."
      ],
      "metadata": {
        "id": "NoLJJqK8jYoK"
      }
    },
    {
      "cell_type": "code",
      "source": [
        "# Evaluate the model\n",
        "test_predictions, test_targets = evaluate_model(model, test_loader, DEVICE)\n",
        "\n",
        "# Calculate metrics\n",
        "mse, mae, r2 = calculate_metrics(test_predictions, test_targets)\n",
        "print(f\"Mean Squared Error: {mse:.4f}\")\n",
        "print(f\"Mean Absolute Error: {mae:.4f}\")\n",
        "print(f\"R-squared Score: {r2:.4f}\")\n",
        "\n",
        "# Plot predictions vs targets\n",
        "#plot_predictions_vs_targets(test_predictions, test_targets)\n",
        "\n",
        "# Plot residuals\n",
        "plot_residuals(test_predictions, test_targets)"
      ],
      "metadata": {
        "execution": {
          "iopub.status.busy": "2024-09-12T15:42:46.438759Z",
          "iopub.execute_input": "2024-09-12T15:42:46.439737Z",
          "iopub.status.idle": "2024-09-12T15:43:35.185901Z",
          "shell.execute_reply.started": "2024-09-12T15:42:46.439694Z",
          "shell.execute_reply": "2024-09-12T15:43:35.18498Z"
        },
        "trusted": true,
        "id": "a2k3TQ3WOn5O"
      },
      "execution_count": null,
      "outputs": []
    },
    {
      "cell_type": "markdown",
      "source": [
        "This plot compares predicted and true values for multiple features across a series of data points. Based on the analysis, there are a few key observations and potential issues:\n",
        "\n",
        "1. Overall Pattern: The general trend of both predicted and true values seems to follow a similar pattern, which is a good sign. Most values oscillate between 0 and 0.5.\n",
        "2. Extreme Negative Values: There are several instances where the predicted values suddenly drop to extreme negative values (around -2.5 to -3.0). This is unusual and likely indicates an error, especially since the true values don't exhibit this behavior.\n",
        "3. Consistency: Outside of the extreme drops, the predicted values generally track the true values fairly well, which suggests the model has learned some underlying patterns.\n",
        "4. Multiple Features: The plot shows multiple lines for both predicted and true values (pred 0-11 and true 0-11), indicating multiple features or time steps are being predicted simultaneously.\n",
        "5. Data Points: The x-axis goes up to about 225 data points, which seems reasonable for a test set."
      ],
      "metadata": {
        "id": "NOxKpGnsluQt"
      }
    },
    {
      "cell_type": "code",
      "source": [
        "import numpy as np\n",
        "import torch\n",
        "import matplotlib.pyplot as plt\n",
        "import seaborn as sns\n",
        "\n",
        "model.eval()\n",
        "\n",
        "# Initialize lists to store predictions and labels\n",
        "predictions = []\n",
        "labels_list = []\n",
        "\n",
        "# Iterate over the test_loader to compute predictions\n",
        "for encoder_inputs, labels in test_loader:\n",
        "    encoder_inputs = encoder_inputs.to(DEVICE)\n",
        "    labels = labels.to(DEVICE)\n",
        "    # Get model predictions\n",
        "    with torch.no_grad():\n",
        "        y_hat = model(encoder_inputs, static_edge_index)\n",
        "\n",
        "    # Append predictions and true labels\n",
        "    predictions.append(y_hat)\n",
        "    labels_list.append(labels)\n",
        "\n",
        "# Convert lists to tensors or numpy arrays for plotting\n",
        "# Get the shapes of predictions and labels to determine valid indices\n",
        "pred_shape = predictions[0].shape\n",
        "label_shape = labels_list[0].shape\n",
        "\n",
        "# Ensure sensor and timestep indices are within the correct range\n",
        "num_sensors = pred_shape[0]\n",
        "num_timesteps = pred_shape[1]\n",
        "\n",
        "sensor = min(123, num_sensors - 1)\n",
        "timestep = min(11, num_timesteps - 1)\n",
        "\n",
        "# Extract data for plotting\n",
        "preds = np.array([pred[sensor][timestep].detach().cpu().numpy() for pred in predictions])\n",
        "labs = np.array([label[sensor][timestep].cpu().numpy() for label in labels_list])\n",
        "\n",
        "# Plotting\n",
        "plt.figure(figsize=(20, 5))\n",
        "\n",
        "# Plot predicted values\n",
        "for i in range(preds.shape[1]):\n",
        "    plt.plot(preds[:, i], label=f'pred {i}', linestyle='--')\n",
        "\n",
        "# Plot true values\n",
        "for i in range(labs.shape[1]):\n",
        "    plt.plot(labs[:, i], label=f'true {i}')\n",
        "\n",
        "plt.xlabel(\"Data Points\")\n",
        "plt.ylabel(\"Values\")\n",
        "plt.title(\"Comparison of Predicted and True Values\")\n",
        "plt.legend(bbox_to_anchor=(1.05, 1), loc='upper left')\n",
        "plt.tight_layout()\n",
        "plt.show()"
      ],
      "metadata": {
        "execution": {
          "iopub.status.busy": "2024-09-12T15:39:56.731699Z",
          "iopub.execute_input": "2024-09-12T15:39:56.73215Z",
          "iopub.status.idle": "2024-09-12T15:40:06.502098Z",
          "shell.execute_reply.started": "2024-09-12T15:39:56.732113Z",
          "shell.execute_reply": "2024-09-12T15:40:06.501287Z"
        },
        "trusted": true,
        "id": "qQM8aMmkOn5O"
      },
      "execution_count": null,
      "outputs": []
    },
    {
      "cell_type": "code",
      "metadata": {
        "colab": {
          "base_uri": "https://localhost:8080/",
          "height": 337
        },
        "id": "08wwv2qUR7z9",
        "outputId": "320807bf-8403-4dbf-d43b-4e1575d51f69"
      },
      "source": [
        "import matplotlib.pyplot as plt\n",
        "plt.figure(figsize=(20,5))\n",
        "sns.lineplot(data=predictions, label=\"pred\")\n",
        "sns.lineplot(data=targets, label=\"true\")"
      ],
      "execution_count": null,
      "outputs": [
        {
          "output_type": "execute_result",
          "data": {
            "text/plain": [
              "<matplotlib.axes._subplots.AxesSubplot at 0x7f7b14858950>"
            ]
          },
          "metadata": {},
          "execution_count": 38
        },
        {
          "output_type": "display_data",
          "data": {
            "image/png": "[encoded data removed]",
            "text/plain": [
              "<Figure size 1440x360 with 1 Axes>"
            ]
          },
          "metadata": {
            "needs_background": "light"
          }
        }
      ]
    },
    {
      "cell_type": "code",
      "source": [
        "import numpy as np\n",
        "import torch\n",
        "import torch.nn.functional as F\n",
        "from torch_geometric.nn import GCNConv\n",
        "from torch_geometric_temporal.nn.recurrent import A3TGCN2\n",
        "import pytorch_lightning as L\n",
        "from pytorch_lightning.callbacks import EarlyStopping, Timer\n",
        "from torch.utils.data import DataLoader, TensorDataset, random_split\n",
        "\n",
        "# Data Preparation\n",
        "def prepare_data(train_dataset, test_dataset, batch_size, val_split=0.1, shuffle=True):\n",
        "    # Prepare train data\n",
        "    train_input = np.array(train_dataset.features)\n",
        "    train_target = np.array(train_dataset.targets)\n",
        "    train_x_tensor = torch.from_numpy(train_input).type(torch.FloatTensor)\n",
        "    train_target_tensor = torch.from_numpy(train_target).type(torch.FloatTensor)\n",
        "\n",
        "    # Create validation split\n",
        "    dataset_size = len(train_x_tensor)\n",
        "    val_size = int(val_split * dataset_size)\n",
        "    train_size = dataset_size - val_size\n",
        "    train_dataset, val_dataset = random_split(TensorDataset(train_x_tensor, train_target_tensor),\n",
        "                                              [train_size, val_size])\n",
        "\n",
        "    # Create data loaders\n",
        "    train_loader = DataLoader(train_dataset, batch_size=batch_size, shuffle=shuffle, drop_last=True)\n",
        "    val_loader = DataLoader(val_dataset, batch_size=batch_size, shuffle=False, drop_last=True)\n",
        "\n",
        "    # Prepare test data\n",
        "    test_input = np.array(test_dataset.features)\n",
        "    test_target = np.array(test_dataset.targets)\n",
        "    test_x_tensor = torch.from_numpy(test_input).type(torch.FloatTensor)\n",
        "    test_target_tensor = torch.from_numpy(test_target).type(torch.FloatTensor)\n",
        "    test_dataset = TensorDataset(test_x_tensor, test_target_tensor)\n",
        "    test_loader = DataLoader(test_dataset, batch_size=batch_size, shuffle=False, drop_last=True)\n",
        "\n",
        "    return train_loader, val_loader, test_loader"
      ],
      "metadata": {
        "id": "qmLscT7rogpX"
      },
      "execution_count": null,
      "outputs": []
    },
    {
      "cell_type": "markdown",
      "source": [
        "## 6- Parameters optimization"
      ],
      "metadata": {
        "id": "U3lwXyoAkPCz"
      }
    },
    {
      "cell_type": "code",
      "source": [
        "import pytorch_lightning as L\n",
        "import torch\n",
        "import torch.nn.functional as F\n",
        "from pytorch_lightning.callbacks import EarlyStopping, LearningRateMonitor\n",
        "from torch.utils.data import DataLoader\n",
        "\n",
        "def train_model(hparams):\n",
        "    model = TemporalGNN(\n",
        "        node_features=2,\n",
        "        periods=12,\n",
        "        batch_size=hparams['batch_size'],\n",
        "        lr=hparams['lr'],\n",
        "        weight_decay=hparams['weight_decay']\n",
        "    )\n",
        "    model.set_static_edge_index(static_edge_index.to(DEVICE))\n",
        "\n",
        "    early_stopping = EarlyStopping(patience=15, monitor=\"val_loss\", mode=\"min\")\n",
        "    lr_monitor = LearningRateMonitor(logging_interval='step')\n",
        "\n",
        "    logger = TensorBoardLogger(\"lightning_logs\", name=\"temporal_gnn\")\n",
        "\n",
        "    trainer = L.Trainer(\n",
        "        accelerator=\"gpu\" if torch.cuda.is_available() else \"cpu\",\n",
        "        devices=1 if torch.cuda.is_available() else None,\n",
        "        max_epochs=100,\n",
        "        callbacks=[early_stopping, lr_monitor],\n",
        "        logger=logger,\n",
        "        log_every_n_steps=10\n",
        "    )\n",
        "\n",
        "    trainer.fit(model, train_loader, val_loader)\n",
        "\n",
        "    return trainer.callback_metrics[\"val_loss\"].item()"
      ],
      "metadata": {
        "execution": {
          "iopub.status.busy": "2024-09-12T15:55:13.986645Z",
          "iopub.execute_input": "2024-09-12T15:55:13.987402Z",
          "iopub.status.idle": "2024-09-12T15:55:13.996639Z",
          "shell.execute_reply.started": "2024-09-12T15:55:13.987357Z",
          "shell.execute_reply": "2024-09-12T15:55:13.995573Z"
        },
        "trusted": true,
        "id": "2z-Ay4-aOn5P"
      },
      "execution_count": null,
      "outputs": []
    },
    {
      "cell_type": "code",
      "source": [
        "# Hyperparameter search space\n",
        "search_space = {\n",
        "    'batch_size': [16, 32, 64],\n",
        "    'lr': [1e-3, 5e-4, 1e-4],\n",
        "    'weight_decay': [1e-5, 1e-4, 1e-3]\n",
        "}"
      ],
      "metadata": {
        "execution": {
          "iopub.status.busy": "2024-09-12T15:55:17.225225Z",
          "iopub.execute_input": "2024-09-12T15:55:17.225734Z",
          "iopub.status.idle": "2024-09-12T15:55:17.230873Z",
          "shell.execute_reply.started": "2024-09-12T15:55:17.225694Z",
          "shell.execute_reply": "2024-09-12T15:55:17.229859Z"
        },
        "trusted": true,
        "id": "KBtxzIlsOn5P"
      },
      "execution_count": null,
      "outputs": []
    },
    {
      "cell_type": "code",
      "source": [
        "# Simple grid search\n",
        "best_val_loss = float('inf')\n",
        "best_hparams = {}\n",
        "\n",
        "for batch_size in search_space['batch_size']:\n",
        "    for lr in search_space['lr']:\n",
        "        for weight_decay in search_space['weight_decay']:\n",
        "            hparams = {\n",
        "                'batch_size': batch_size,\n",
        "                'lr': lr,\n",
        "                'weight_decay': weight_decay\n",
        "            }\n",
        "            val_loss = train_model(hparams)\n",
        "            if val_loss < best_val_loss:\n",
        "                best_val_loss = val_loss\n",
        "                best_hparams = hparams"
      ],
      "metadata": {
        "execution": {
          "iopub.status.busy": "2024-09-12T18:51:16.164143Z",
          "iopub.execute_input": "2024-09-12T18:51:16.164511Z",
          "iopub.status.idle": "2024-09-12T20:37:08.717732Z",
          "shell.execute_reply.started": "2024-09-12T18:51:16.164456Z",
          "shell.execute_reply": "2024-09-12T20:37:08.715569Z"
        },
        "trusted": true,
        "id": "305wsCcqOn5P"
      },
      "execution_count": null,
      "outputs": []
    },
    {
      "cell_type": "code",
      "source": [
        "print(f\"Best hyperparameters: {best_hparams}\")\n",
        "print(f\"Best validation loss: {best_val_loss}\")"
      ],
      "metadata": {
        "execution": {
          "iopub.status.busy": "2024-09-12T20:37:24.571021Z",
          "iopub.execute_input": "2024-09-12T20:37:24.571434Z",
          "iopub.status.idle": "2024-09-12T20:37:24.577423Z",
          "shell.execute_reply.started": "2024-09-12T20:37:24.571395Z",
          "shell.execute_reply": "2024-09-12T20:37:24.576274Z"
        },
        "trusted": true,
        "id": "TGrFBYw_On5Q",
        "outputId": "7a5af7ed-8bb7-475f-e9e7-27ef03a76922"
      },
      "execution_count": null,
      "outputs": [
        {
          "name": "stdout",
          "text": "Best hyperparameters: {'batch_size': 16, 'lr': 0.001, 'weight_decay': 1e-05}\nBest validation loss: 0.4375171363353729\n",
          "output_type": "stream"
        }
      ]
    }
  ]
}